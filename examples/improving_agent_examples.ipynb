{
 "cells": [
  {
   "cell_type": "markdown",
   "metadata": {},
   "source": [
    "# imProving Agent - Relay Examples 2020-09-21\n",
    "\n",
    "imProving Agent currently supports n-hop linear queries to SPOKE that are optionally processed through ranking algorithms.\n",
    "\n",
    "NOTE: This notebook generated with Python 3.7.5 on 2020-09-23. The only requirement (beyond Jupyter) is `requests`, which can be installed with `pip install requests`\n",
    "\n",
    "## Nodes and Edges\n",
    "\n",
    "### Currently supporting nodes and their identifiers\n",
    "| biolink node type | SPOKE node type | supported curies (examples) |  \n",
    "| --- | --- | --- |\n",
    "|biolink:BiologicalProcess| BiologicalProcess | GO:0000348 |\n",
    "|biolink:Cell| CellType | CL:1001033 |\n",
    "|biolink:CellularComponent| CellularComponent | GO:0005833 |\n",
    "|biolink:ChemicalSubstance| Compound | DB00122 or CHEMBL1076872 |\n",
    "|biolink:Disease| Disease | DOID:0111749 |\n",
    "|biolink:Gene| Gene | NCBIGene:672 |\n",
    "|biolink:GrossAnatomicalStructure| Anatomy | UBERON:2001647 |\n",
    "|biolink:MolecularActivity | MolecularFunction | GO:0061731 |\n",
    "|biolink:Pathway| Pathway | WP4804_r109130 |\n",
    "|biolink:PhenotypicFeature| Symptom | D000078064 |\n",
    "|biolink:Protein| Protein | UNIPROT:Q9BYF1 |\n",
    "\n",
    "Note: additional nodes types exist in SPOKE, but do not map well onto the existing biolink. Further, curie normalization happens internally for querying KPs, but is absent from query resolution at the moment. If these are returned in your query, they will be identified as biolink:NamedThing\n",
    "\n",
    "### Edges\n",
    "\n",
    "Edge types cannot be specified at this point. \n",
    "\n",
    "Edges have not been normalized to biolink at this point in time. imProving Agent will return SPOKE edges that are represented as `<VERB>_<Subject abbreviation><verb abbreviation><Object abbreviation>`, for example `DOWNREGULATES_CdD` is English translated as compound downregulates disease.\n",
    "\n",
    "See: http://www.cgl.ucsf.edu/home/meng/spoke/docs/index.html for further details on SPOKE's data\n",
    "\n",
    "## Ranking Algorithm Options\n",
    "### PSEV: Propagated SPOKE Entry Vectors\n",
    "PSEVs are derived from the UCSF EHR (https://www.nature.com/articles/s41467-019-11069-0). They weight all graph nodes based on their presence in random walks through the graph for any given concept in SPOKE, in this case diseases.  \n",
    "  \n",
    "Currently available PSEV Contexts:\n",
    "- DOID:9351     Diabetes mellitus\n",
    "- DOID:9970     Obesity\n",
    "- DOID:10763    Hypertension\n",
    "- DOID:14330    Parkinson's Disease\n",
    "- DOID:3393     Coronary Artery Disease\n",
    "- DOID:2377     Multiple sclerosis\n",
    "- DOID:7148     Rheumatoid arthritis\n",
    "- DOID:3083     Chronic Obstructive Pulmonary Disease (COPD)\n",
    "- DOID:0060224  Atrial Fibrillation\n",
    "- DOID:2800     Idiopathic Pulmonary Disease\n",
    "- DOID:9617     Albuminuria\n",
    "\n",
    "## Other Options\n",
    "Query KPs: whether to query Translator Knowledge Providers to get ranking information. This can be slow (up to 5 minutes) because it requires node normalization and sometimes hundreds of transactions over the open internet.\n",
    "\n",
    "n_results: number of results, which is currently limited to 200. Note that longer queries (2 or 3+ hops) tend to emphasize the terminal node. In other words, in a 3-hop query with only 200 results, the first 5 (node 1 - edge 1 - node 2 - edge 2 - node 3) elements of the response may be exactly the same for all 200 results, with only the terminal edge 3 and node 4 changing."
   ]
  },
  {
   "cell_type": "code",
   "execution_count": null,
   "metadata": {},
   "outputs": [],
   "source": [
    "# Examples"
   ]
  },
  {
   "cell_type": "code",
   "execution_count": null,
   "metadata": {},
   "outputs": [],
   "source": [
    "import requests\n",
    "\n",
    "IA_BASE_URL = 'https://evidara.healthdatascience.cloud'\n",
    "IA_TRAPI_QUERY_URL = '/api/v1/query'"
   ]
  },
  {
   "cell_type": "code",
   "execution_count": null,
   "metadata": {},
   "outputs": [],
   "source": []
  },
  {
   "cell_type": "code",
   "execution_count": null,
   "metadata": {},
   "outputs": [],
   "source": [
    "# simple one-hop query for gene-gene\n",
    "# \"Which genes are related to BRCA1?\"\n",
    "#\n",
    "# Note: no ranking\n",
    "\n",
    "gene_gene_request_payload = {\n",
    "    \"query_message\": {\n",
    "        \"query_graph\":{ \n",
    "            \"nodes\":[\n",
    "                {\n",
    "                    \"node_id\": \"n0\",\n",
    "                    \"curie\": \"NCBIGene:672\",\n",
    "                    \"type\": \"biolink:Gene\"\n",
    "                },\n",
    "                {\n",
    "                    \"node_id\": \"n1\",\n",
    "                    \"curie\": \"\",\n",
    "                    \"type\":\"biolink:Gene\"\n",
    "                }\n",
    "            ],\n",
    "            \"edges\":[\n",
    "                {\n",
    "                    \"edge_id\": \"e0\",\n",
    "                    \"source_id\":\"n0\",\n",
    "                    \"target_id\":\"n1\"\n",
    "                }\n",
    "            ]\n",
    "        },\n",
    "        \"query_options\":{}\n",
    "    }\n",
    "}"
   ]
  },
  {
   "cell_type": "code",
   "execution_count": null,
   "metadata": {},
   "outputs": [],
   "source": [
    "gene_gene_response = requests.post(f'{IA_BASE_URL}{IA_TRAPI_QUERY_URL}', json=gene_gene_request_payload)\n",
    "gene_gene_response.raise_for_status()\n",
    "\n",
    "gene_gene_results = gene_gene_response.json()['results']"
   ]
  },
  {
   "cell_type": "code",
   "execution_count": null,
   "metadata": {},
   "outputs": [],
   "source": [
    "# one-hop query for compound-protein\n",
    "# \"Which proteins does modafinil bind? Rank them in the context of multiple sclerosis\"\n",
    "compound_protein_request_payload = {\n",
    "    \"query_message\":{\n",
    "        \"query_graph\":{\n",
    "            \"nodes\":[\n",
    "                {\n",
    "                    \"node_id\": \"n0\",\n",
    "                    \"curie\": \"DB00745\",\n",
    "                    \"type\":\"biolink:ChemicalSubstance\"\n",
    "                },\n",
    "                {\n",
    "                    \"node_id\": \"n1\",\n",
    "                    \"curie\": \"\",\n",
    "                    \"type\":\"biolink:Protein\"\n",
    "                }\n",
    "            ],\n",
    "            \"edges\":[\n",
    "                {\n",
    "                    \"edge_id\": \"e0\",\n",
    "                    \"source_id\":\"n0\",\n",
    "                    \"target_id\":\"n1\"\n",
    "                }\n",
    "            ]\n",
    "        },\n",
    "        \"query_options\":{\n",
    "            \"psev-context\":\"DOID:2377\"\n",
    "        }\n",
    "    }\n",
    "}"
   ]
  },
  {
   "cell_type": "code",
   "execution_count": null,
   "metadata": {},
   "outputs": [],
   "source": [
    "compound_protein_response = requests.post(f'{IA_BASE_URL}{IA_TRAPI_QUERY_URL}', json=compound_protein_request_payload)\n",
    "compound_protein_response.raise_for_status()\n",
    "\n",
    "compound_protein_results = compound_protein_response.json()['results']"
   ]
  },
  {
   "cell_type": "code",
   "execution_count": null,
   "metadata": {},
   "outputs": [],
   "source": [
    "# three hop demonstration of unspecified node\n",
    "# \"Show me two-hop paths between Parkinson's drugs and proteins\"\n",
    "three_hop_request_payload = {\n",
    "    \"query_message\":{\n",
    "        \"query_graph\":{\n",
    "            \"nodes\":[\n",
    "                {\"node_id\": \"n0\", \"curie\": \"DOID:14330\", \"type\": \"biolink:Disease\"},\n",
    "                {\"node_id\": \"n1\", \"curie\": \"\",\"type\": \"biolink:ChemicalSubstance\"},\n",
    "                {\"node_id\": \"n2\", \"curie\": \"\",\"type\": \"\"}, # biolink:NamedThing also works for 'any'\n",
    "                {\"node_id\": \"n3\", \"curie\": \"\",\"type\": \"biolink:Protein\"}\n",
    "            ],\n",
    "            \"edges\":[\n",
    "                {\"edge_id\":\"e0\", \"source_id\": \"n0\", \"target_id\": \"n1\"},\n",
    "                {\"edge_id\":\"e1\", \"source_id\": \"n1\", \"target_id\": \"n2\"},\n",
    "                {\"edge_id\":\"e2\", \"source_id\": \"n2\", \"target_id\": \"n3\"}\n",
    "            ]\n",
    "        },\n",
    "        \"query_options\": {\"psev-context\": \"DOID:14330\"}\n",
    "    }\n",
    "}"
   ]
  },
  {
   "cell_type": "code",
   "execution_count": null,
   "metadata": {},
   "outputs": [],
   "source": [
    "three_hop_response = requests.post(f'{IA_BASE_URL}{IA_TRAPI_QUERY_URL}', json=three_hop_request_payload)\n",
    "three_hop_response.raise_for_status()\n",
    "\n",
    "three_hop_results = three_hop_response.json()['results']"
   ]
  },
  {
   "cell_type": "code",
   "execution_count": null,
   "metadata": {},
   "outputs": [],
   "source": [
    "# Integration Use Cases"
   ]
  },
  {
   "cell_type": "code",
   "execution_count": null,
   "metadata": {},
   "outputs": [],
   "source": [
    "# \"Which proteins or genes might be related to a symptom of a disease given the drugs that treat it?\"\n",
    "# Symptom – Disease – Compound – Protein \n",
    "# specific question: \n",
    "#    \"Which proteins might be related to symptoms of \n",
    "#     coronary artery disease given the drugs that treat it?\n",
    "#     Query KPs for extra annotations and rank the results in \n",
    "#     context of coronary artery disease\"\n",
    "\n",
    "use_case_1_request_payload = {\n",
    "    \"query_message\": {\n",
    "        \"query_graph\": {\n",
    "            \"nodes\": [\n",
    "                {\"node_id\": \"n0\", \"curie\": \"\", \"type\": \"biolink:PhenotypicFeature\"},\n",
    "                {\"node_id\": \"n1\", \"curie\": \"DOID:3393\", \"type\": \"biolink:Disease\"},\n",
    "                {\"node_id\": \"n2\", \"curie\": \"\", \"type\": \"biolink:ChemicalSubstance\"},\n",
    "                {\"node_id\": \"n3\", \"curie\": \"\", \"type\": \"biolink:Protein\"}\n",
    "            ],\n",
    "            \"edges\": [\n",
    "                {\"edge_id\": \"e0\", \"source_id\": \"n0\", \"target_id\": \"n1\"},\n",
    "                {\"edge_id\": \"e1\", \"source_id\": \"n1\", \"target_id\": \"n2\"},\n",
    "                {\"edge_id\": \"e2\", \"source_id\": \"n2\", \"target_id\": \"n3\"}\n",
    "            ]\n",
    "        },\n",
    "        \"query_options\": { \"psev-context\": \"DOID:3393\", \"query_kps\": \"true\" }\n",
    "    }\n",
    "}"
   ]
  },
  {
   "cell_type": "code",
   "execution_count": null,
   "metadata": {},
   "outputs": [],
   "source": [
    "# warning: several minutes\n",
    "use_case_1 = requests.post(f'{IA_BASE_URL}{IA_TRAPI_QUERY_URL}', json=use_case_1_request_payload)\n",
    "use_case_1.raise_for_status()\n",
    "\n",
    "use_case_1_results = use_case_1.json()['results']"
   ]
  },
  {
   "cell_type": "code",
   "execution_count": null,
   "metadata": {},
   "outputs": [],
   "source": [
    "use_case_1_results"
   ]
  },
  {
   "cell_type": "code",
   "execution_count": null,
   "metadata": {},
   "outputs": [],
   "source": [
    "# \"For a patient with disease X, what are some factors \n",
    "# (such as genetic features, comorbidities, etc) that \n",
    "# could cause sensitivity or resistance to drug Y?\"\n",
    "#\n",
    "# Compound - Disease - Disease - Gene\n",
    "# \n",
    "# Specific question:\n",
    "#     Which genes related to comorbidities of rheumatoid arthitis \n",
    "#     might cause sensitivity to drugs that treat COPD? Rank results \n",
    "#     in context of rheumatoid arthitis\n",
    "#\n",
    "#     NOTE: this specific example returns a 'child of disease\n",
    "#     superclass' edge and demonstrates the need to specify edge types\n",
    "\n",
    "use_case_2_request_payload = {\n",
    "    \"query_message\":{\n",
    "        \"query_graph\":{\n",
    "            \"nodes\":[\n",
    "                {\"node_id\": \"n0\",\"curie\": \"\", \"type\": \"biolink:ChemicalSubstance\"},\n",
    "                {\"node_id\": \"n1\",\"curie\": \"DOID:7148\",\"type\": \"biolink:Disease\"},\n",
    "                {\"node_id\": \"n2\",\"curie\": \"\", \"type\": \"biolink:Disease\"},\n",
    "                {\"node_id\": \"n3\",\"curie\": \"\", \"type\": \"biolink:Gene\"}\n",
    "            ],\n",
    "            \"edges\":[\n",
    "                {\"edge_id\": \"e0\", \"source_id\": \"n0\", \"target_id\": \"n1\"},\n",
    "                {\"edge_id\": \"e1\", \"source_id\": \"n1\", \"target_id\": \"n2\"},\n",
    "                {\"edge_id\": \"e2\", \"source_id\": \"n2\", \"target_id\": \"n3\"}\n",
    "            ]\n",
    "        },\n",
    "        \"query_options\":{\n",
    "            \"psev-context\":\"DOID:7148\", \"query_kps\":\"true\"\n",
    "        }\n",
    "    }\n",
    "}"
   ]
  },
  {
   "cell_type": "code",
   "execution_count": null,
   "metadata": {},
   "outputs": [],
   "source": [
    "# warning: several minutes\n",
    "use_case_2 = requests.post(f'{IA_BASE_URL}{IA_TRAPI_QUERY_URL}', json=use_case_2_request_payload)\n",
    "use_case_2.raise_for_status()\n",
    "\n",
    "use_case_2_results = use_case_2.json()['results']"
   ]
  },
  {
   "cell_type": "code",
   "execution_count": null,
   "metadata": {},
   "outputs": [],
   "source": [
    "use_case_2_results"
   ]
  },
  {
   "cell_type": "code",
   "execution_count": null,
   "metadata": {},
   "outputs": [],
   "source": []
  }
 ],
 "metadata": {
  "kernelspec": {
   "display_name": "Python 3",
   "language": "python",
   "name": "python3"
  },
  "language_info": {
   "codemirror_mode": {
    "name": "ipython",
    "version": 3
   },
   "file_extension": ".py",
   "mimetype": "text/x-python",
   "name": "python",
   "nbconvert_exporter": "python",
   "pygments_lexer": "ipython3",
   "version": "3.7.5"
  }
 },
 "nbformat": 4,
 "nbformat_minor": 4
}